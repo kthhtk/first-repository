{
  "nbformat": 4,
  "nbformat_minor": 0,
  "metadata": {
    "colab": {
      "provenance": [],
      "include_colab_link": true
    },
    "kernelspec": {
      "name": "python3",
      "display_name": "Python 3"
    },
    "language_info": {
      "name": "python"
    }
  },
  "cells": [
    {
      "cell_type": "markdown",
      "metadata": {
        "id": "view-in-github",
        "colab_type": "text"
      },
      "source": [
        "<a href=\"https://colab.research.google.com/github/kthhtk/first-repository/blob/master/aaa/Untitled0.ipynb\" target=\"_parent\"><img src=\"https://colab.research.google.com/assets/colab-badge.svg\" alt=\"Open In Colab\"/></a>"
      ]
    },
    {
      "cell_type": "markdown",
      "source": [
        "\n",
        "회문인지 아닌지 확인하는 프로그램\n",
        "\n",
        "회문이란?\n",
        " 앞에서부터 읽어도 뒤에서부터 읽어도 같은 단어, 그, 문장, 숫자, 혹은 문단\n",
        "\n",
        "조건\n",
        "  - 책스트를 입력받는다.\n",
        "  - 입력된 단어를 출력한다.\n",
        "  - 뒤집힌 단어를 출력한다.\n",
        "  - 입력된 단어가 회문이 맞는지 확인하여 출력할 수 있게 한다.\n",
        "     input, 자료형, 제어문, 함수 활용\n",
        "\n",
        "\n",
        "<u>출력 예시</u>\n",
        "\n",
        "입력값 :\n",
        "\n",
        "우성우\n",
        "\n",
        "출력값 :\n",
        "\n",
        "뒤집힌 단어: 우성우\n",
        "\n",
        "입력된 단어는 회문입니다."
      ],
      "metadata": {
        "id": "XiEGGewyMMf4"
      }
    },
    {
      "cell_type": "markdown",
      "source": [
        "토의\n",
        "\n",
        "1. 텍스트를 입력받는다. '단어를 입력하세요' 를 입력한다.\n",
        "= input()\n",
        "\n",
        "2. 입력된 단어를 출력한다.\n",
        "= print() 한다.\n",
        "\n",
        "3. 뒤집힌 단어를 출력한다.\n",
        "= 인덱스를 활용해서 뒤집어서, print() 한다.\n",
        "\n",
        "4. 입력된 단어가 회문이 맞는지 확인하여 출력할 수 있게 한다.\n",
        "=  입출력된 인덱스 가 동일한지 확인하여, print() 한다.\n",
        "\n",
        "5. '입력된 단어는 회문입니다.' 를 출력한다.\n",
        "  ('입력된 단어는 회문이 아닙니다.' 를 출력한다.)\n",
        "= print()"
      ],
      "metadata": {
        "id": "FIfC8D-2M8EH"
      }
    },
    {
      "cell_type": "code",
      "execution_count": null,
      "metadata": {
        "id": "GmpBlTXYIBy1"
      },
      "outputs": [],
      "source": [
        "\n",
        "name = input(\"단어를 입력하세요.:\") # input함수로 입력된 값을 name 변수에 대입\n",
        "print(name) # name 값을 print\n",
        "rv_name = name[::-1]  # rv_name(리버스_네임) 변수에 역순된 name 값을 대입 ( ::-1 = 모든 인덱스를 역순으로 1개씩 )\n",
        "print(rv_name) # rv_name 값을 print\n",
        "\n",
        "if name == rv_name :  # 만약 name 값과 rv_name 값이 동일하다면\n",
        "  print(\"입력된 단어는 회문 입니다.\") # print\n",
        "else :  # 그외의 조건이라면\n",
        "  print(\"입력된 단어는 회문이 아닙니다.\") # print\n",
        "\n",
        "\n"
      ]
    }
  ]
}